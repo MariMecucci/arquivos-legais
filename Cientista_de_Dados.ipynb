{
  "nbformat": 4,
  "nbformat_minor": 0,
  "metadata": {
    "colab": {
      "provenance": [],
      "authorship_tag": "ABX9TyNNjUPJry2DEtsc79niX5do",
      "include_colab_link": true
    },
    "kernelspec": {
      "name": "python3",
      "display_name": "Python 3"
    },
    "language_info": {
      "name": "python"
    }
  },
  "cells": [
    {
      "cell_type": "markdown",
      "metadata": {
        "id": "view-in-github",
        "colab_type": "text"
      },
      "source": [
        "<a href=\"https://colab.research.google.com/github/MariMecucci/arquivos-legais/blob/main/Cientista_de_Dados.ipynb\" target=\"_parent\"><img src=\"https://colab.research.google.com/assets/colab-badge.svg\" alt=\"Open In Colab\"/></a>"
      ]
    },
    {
      "cell_type": "code",
      "execution_count": null,
      "metadata": {
        "colab": {
          "base_uri": "https://localhost:8080/"
        },
        "id": "kyvtrRv7ce96",
        "outputId": "746811a7-c787-466b-a3d0-e3ff0885bf23"
      },
      "outputs": [
        {
          "output_type": "stream",
          "name": "stdout",
          "text": [
            "[1, 2, 3, 4, 5, 1, 2, 3, 4, 5]\n"
          ]
        }
      ],
      "source": [
        "Lista1 = [1,2,3,4,5] \n",
        "Lista2 = [1,2,3,4,5] \n",
        "Lista3 = Lista1 + Lista2 \n",
        "print(Lista3)"
      ]
    },
    {
      "cell_type": "code",
      "source": [
        "altura = 1.75 \n",
        "peso = 79.2 \n",
        "IMC = peso/altura**2 \n",
        "print('{:.2f}'.format(IMC))"
      ],
      "metadata": {
        "colab": {
          "base_uri": "https://localhost:8080/"
        },
        "id": "NvW5LgZ4coRl",
        "outputId": "815a1bf1-ce2b-4f3b-9445-fbd77ce436de"
      },
      "execution_count": null,
      "outputs": [
        {
          "output_type": "stream",
          "name": "stdout",
          "text": [
            "25.86\n"
          ]
        }
      ]
    },
    {
      "cell_type": "code",
      "source": [
        "a = '10' \n",
        "b = '3' \n",
        "c = int(a)%int(b) \n",
        "print(c)"
      ],
      "metadata": {
        "colab": {
          "base_uri": "https://localhost:8080/"
        },
        "id": "Pxsuy0GXelLb",
        "outputId": "addedb3c-46eb-454c-f8a4-bbbe76165c60"
      },
      "execution_count": null,
      "outputs": [
        {
          "output_type": "stream",
          "name": "stdout",
          "text": [
            "1\n"
          ]
        }
      ]
    },
    {
      "cell_type": "code",
      "source": [
        "lista = [10,2,30,23,12,42,543,24,33,34,123.5,1231,53,123,6456,234,45]\n",
        "X = 0 \n",
        "for i in lista: X += i \n",
        "print(X)"
      ],
      "metadata": {
        "colab": {
          "base_uri": "https://localhost:8080/"
        },
        "id": "r1GZU6Mneq2o",
        "outputId": "f880fc7e-9e99-4768-a941-15b2b44e9b1a"
      },
      "execution_count": null,
      "outputs": [
        {
          "output_type": "stream",
          "name": "stdout",
          "text": [
            "9018.5\n"
          ]
        }
      ]
    },
    {
      "cell_type": "code",
      "source": [
        "lista = [10,2,30,23,12,42,543,24,33,34,123.5,1231,53,123,6456,234,45] \n",
        "\n",
        "X = 0 \n",
        "for i in lista: \n",
        "  X += i \n",
        "  print(X)"
      ],
      "metadata": {
        "colab": {
          "base_uri": "https://localhost:8080/"
        },
        "id": "MZxap2TEflgP",
        "outputId": "208b7949-6166-4c5f-94ae-2c0da7c8e3d0"
      },
      "execution_count": null,
      "outputs": [
        {
          "output_type": "stream",
          "name": "stdout",
          "text": [
            "10\n",
            "12\n",
            "42\n",
            "65\n",
            "77\n",
            "119\n",
            "662\n",
            "686\n",
            "719\n",
            "753\n",
            "876.5\n",
            "2107.5\n",
            "2160.5\n",
            "2283.5\n",
            "8739.5\n",
            "8973.5\n",
            "9018.5\n"
          ]
        }
      ]
    },
    {
      "cell_type": "code",
      "source": [
        "dicionario={'pessoa_1':{'nome':'Peterson','sobrenome':'Almeida'}, 'pessoa_2':{'nome':'Maria','sobrenome':'Silva'}, 'pessoa_3':{'nome':'Jose','sobrenome':'Santos'}} \n",
        "nome_completo=[] \n",
        "for a,b in dicionario.items(): \n",
        "  nome_completo.append(str(b['nome'])'+'str(b['sobrenome']))\n",
        "   print(nome_completo)"
      ],
      "metadata": {
        "colab": {
          "base_uri": "https://localhost:8080/",
          "height": 136
        },
        "id": "g2WNOkHpYv1M",
        "outputId": "f9455459-e9ec-4d9a-d4f7-216387411dba"
      },
      "execution_count": null,
      "outputs": [
        {
          "output_type": "error",
          "ename": "SyntaxError",
          "evalue": "ignored",
          "traceback": [
            "\u001b[0;36m  File \u001b[0;32m\"<ipython-input-16-0a890d5c3698>\"\u001b[0;36m, line \u001b[0;32m4\u001b[0m\n\u001b[0;31m    nome_completo.append(str(b['nome'])'+'str(b['sobrenome']))\u001b[0m\n\u001b[0m                                       ^\u001b[0m\n\u001b[0;31mSyntaxError\u001b[0m\u001b[0;31m:\u001b[0m invalid syntax\n"
          ]
        }
      ]
    },
    {
      "cell_type": "code",
      "source": [
        "print ( 13 + 90 ) \n",
        "print ( 13.9 + 90.1 ) \n",
        "print( '13' + '90' )"
      ],
      "metadata": {
        "colab": {
          "base_uri": "https://localhost:8080/"
        },
        "id": "6jbCSW9ojbG0",
        "outputId": "70cbfa14-c794-4d7f-8f10-0140080957e9"
      },
      "execution_count": null,
      "outputs": [
        {
          "output_type": "stream",
          "name": "stdout",
          "text": [
            "103\n",
            "104.0\n",
            "1390\n"
          ]
        }
      ]
    },
    {
      "cell_type": "code",
      "source": [
        "a = 5;\n",
        "b = \"\"3\"\"; \n",
        "print(int(a)+b)\""
      ],
      "metadata": {
        "colab": {
          "base_uri": "https://localhost:8080/",
          "height": 136
        },
        "id": "Km7qHT9nbgJb",
        "outputId": "a4a91dcf-c90f-410c-c80d-4f2da04128bf"
      },
      "execution_count": null,
      "outputs": [
        {
          "output_type": "error",
          "ename": "IndentationError",
          "evalue": "ignored",
          "traceback": [
            "\u001b[0;36m  File \u001b[0;32m\"<ipython-input-1-1a2c8eb19606>\"\u001b[0;36m, line \u001b[0;32m2\u001b[0m\n\u001b[0;31m    b = \"\"3\"\";\u001b[0m\n\u001b[0m    ^\u001b[0m\n\u001b[0;31mIndentationError\u001b[0m\u001b[0;31m:\u001b[0m unexpected indent\n"
          ]
        }
      ]
    },
    {
      "cell_type": "code",
      "source": [
        "if nota >= 6 and presenca >= 75: \n",
        "print(\"\"Aprovado.\"\") \n",
        "  elif nota <= 5 and presenca >= 75: \n",
        "print(\"\"Recuperação.\"\") \n",
        "  elif nota >= 6 and presenca < 75: \n",
        "print(\"\"Recuperação.\"\") \n",
        "else: print(\"\"Reprovado.\"\") \n",
        "\n",
        "Aluno 1: [Nota: 6, Presença: 75.0009], \n",
        "Aluno 2: [Nota: 5.9, Presença: 76], \n",
        "Aluno 3: [Nota: 3, Presença: 72], \n",
        "Aluno 4: [Nota: 9, Presença: 74.99].\""
      ],
      "metadata": {
        "colab": {
          "base_uri": "https://localhost:8080/"
        },
        "id": "UbFo32rNbgbt",
        "outputId": "c9424442-b029-4e91-8e16-835e5a4b4aad"
      },
      "execution_count": null,
      "outputs": [
        {
          "output_type": "error",
          "ename": "IndentationError",
          "evalue": "ignored",
          "traceback": [
            "\u001b[0;36m  File \u001b[0;32m\"<ipython-input-2-9c479f9ce856>\"\u001b[0;36m, line \u001b[0;32m2\u001b[0m\n\u001b[0;31m    print(\"\"Aprovado.\"\")\u001b[0m\n\u001b[0m    ^\u001b[0m\n\u001b[0;31mIndentationError\u001b[0m\u001b[0;31m:\u001b[0m expected an indented block\n"
          ]
        }
      ]
    },
    {
      "cell_type": "code",
      "source": [
        "t1 = ('Banana', 'Abacate', 'Morango') \n",
        "tuplaPosicao = t1.index('morango') terceiroElemento = t1[3] \n",
        "print(posicao, terceiroElemento)"
      ],
      "metadata": {
        "colab": {
          "base_uri": "https://localhost:8080/",
          "height": 136
        },
        "id": "vijV_vsvj9i6",
        "outputId": "3c4c354b-e3fc-479c-e08e-bece42a5fb2a"
      },
      "execution_count": null,
      "outputs": [
        {
          "output_type": "error",
          "ename": "SyntaxError",
          "evalue": "ignored",
          "traceback": [
            "\u001b[0;36m  File \u001b[0;32m\"<ipython-input-20-7a514eae1e49>\"\u001b[0;36m, line \u001b[0;32m2\u001b[0m\n\u001b[0;31m    tuplaPosicao = t1.index('morango') terceiroElemento = t1[3]\u001b[0m\n\u001b[0m                                       ^\u001b[0m\n\u001b[0;31mSyntaxError\u001b[0m\u001b[0;31m:\u001b[0m invalid syntax\n"
          ]
        }
      ]
    }
  ]
}